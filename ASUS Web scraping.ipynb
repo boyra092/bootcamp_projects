{
 "cells":[
  {
   "cell_type":"markdown",
   "source":[
    "# IMDB"
   ],
   "attachments":{
    
   },
   "metadata":{
    "datalore":{
     "node_id":"IMDB",
     "type":"MD",
     "hide_input_from_viewers":false,
     "hide_output_from_viewers":false,
     "sheet_delimiter":true
    }
   }
  },
  {
   "cell_type":"markdown",
   "source":[
    "# Mini project 01 - IMDB web scraping"
   ],
   "attachments":{
    
   },
   "metadata":{
    "datalore":{
     "node_id":"dxtg61OOZkMVNvG4Th8v20",
     "type":"MD",
     "hide_input_from_viewers":false,
     "hide_output_from_viewers":false,
     "report_properties":{
      "y":0
     }
    }
   }
  },
  {
   "cell_type":"code",
   "source":[
    "library(tidyverse)\n",
    "library(rvest)"
   ],
   "execution_count":null,
   "outputs":[
    
   ],
   "metadata":{
    "datalore":{
     "node_id":"8NDlppzqwlFz550iee1a19",
     "type":"CODE",
     "hide_input_from_viewers":false,
     "hide_output_from_viewers":false,
     "report_properties":{
      "y":4
     }
    }
   }
  },
  {
   "cell_type":"code",
   "source":[
    "url <- \"https:\/\/www.imdb.com\/search\/title\/?groups=top_100&sort=user_rating,desc\""
   ],
   "execution_count":null,
   "outputs":[
    
   ],
   "metadata":{
    "datalore":{
     "node_id":"jYHaIDdEp6EBoOuME55fW9",
     "type":"CODE",
     "hide_input_from_viewers":false,
     "hide_output_from_viewers":false,
     "report_properties":{
      "y":7
     }
    }
   }
  },
  {
   "cell_type":"code",
   "source":[
    "print(url)"
   ],
   "execution_count":null,
   "outputs":[
    {
     "name":"stdout",
     "text":[
      "[1] \"https:\/\/www.imdb.com\/search\/title\/?groups=top_100&sort=user_rating,desc\"\n"
     ],
     "output_type":"stream"
    }
   ],
   "metadata":{
    "datalore":{
     "node_id":"A20kL9pffDzIP6u2H7gnm9",
     "type":"CODE",
     "hide_input_from_viewers":false,
     "hide_output_from_viewers":false,
     "report_properties":{
      "y":10
     }
    }
   }
  },
  {
   "cell_type":"code",
   "source":[
    "imdb <-read_html(url)"
   ],
   "execution_count":null,
   "outputs":[
    
   ],
   "metadata":{
    "datalore":{
     "node_id":"LC9dCWUAWXYA82DtmjzMlq",
     "type":"CODE",
     "hide_input_from_viewers":false,
     "hide_output_from_viewers":false,
     "report_properties":{
      "y":14
     }
    }
   }
  },
  {
   "cell_type":"code",
   "source":[
    "titles <- imdb %>%\n",
    "    html_nodes(\"h3.lister-item-header\") %>%\n",
    "    html_text2"
   ],
   "execution_count":null,
   "outputs":[
    
   ],
   "metadata":{
    "datalore":{
     "node_id":"G1a56TjaYFRFGxkosBWNw9",
     "type":"CODE",
     "hide_input_from_viewers":false,
     "hide_output_from_viewers":false,
     "report_properties":{
      "y":17
     }
    }
   }
  },
  {
   "cell_type":"code",
   "source":[
    "titles[1:10]"
   ],
   "execution_count":null,
   "outputs":[
    {
     "data":{
      "text\/html":[
       "<style>\n",
       ".list-inline {list-style: none; margin:0; padding: 0}\n",
       ".list-inline>li {display: inline-block}\n",
       ".list-inline>li:not(:last-child)::after {content: \"\\00b7\"; padding: 0 .5ex}\n",
       "<\/style>\n",
       "<ol class=list-inline><li>'1. The Shawshank Redemption (1994)'<\/li><li>'2. The Godfather (1972)'<\/li><li>'3. The Dark Knight (2008)'<\/li><li>'4. The Godfather Part II (1974)'<\/li><li>'5. Schindler\\'s List (1993)'<\/li><li>'6. 12 Angry Men (1957)'<\/li><li>'7. The Lord of the Rings: The Return of the King (2003)'<\/li><li>'8. Pulp Fiction (1994)'<\/li><li>'9. The Lord of the Rings: The Fellowship of the Ring (2001)'<\/li><li>'10. Inception (2010)'<\/li><\/ol>\n"
      ]
     },
     "metadata":{
      
     },
     "output_type":"display_data"
    }
   ],
   "metadata":{
    "datalore":{
     "node_id":"R00FI5GbmEeupFLCXbDBe5",
     "type":"CODE",
     "hide_input_from_viewers":false,
     "hide_output_from_viewers":false,
     "report_properties":{
      "y":21
     }
    }
   }
  },
  {
   "cell_type":"code",
   "source":[
    "ratings <- imdb %>%\n",
    "    html_nodes(\"div.ratings-imdb-rating\") %>%\n",
    "    html_text2 %>%\n",
    "    as.numeric()"
   ],
   "execution_count":null,
   "outputs":[
    
   ],
   "metadata":{
    "datalore":{
     "node_id":"S2duXvCobccCyEkpHudglg",
     "type":"CODE",
     "hide_input_from_viewers":false,
     "hide_output_from_viewers":false,
     "report_properties":{
      "y":26
     }
    }
   }
  },
  {
   "cell_type":"code",
   "source":[
    "ratings[1:10]"
   ],
   "execution_count":null,
   "outputs":[
    {
     "data":{
      "text\/html":[
       "<style>\n",
       ".list-inline {list-style: none; margin:0; padding: 0}\n",
       ".list-inline>li {display: inline-block}\n",
       ".list-inline>li:not(:last-child)::after {content: \"\\00b7\"; padding: 0 .5ex}\n",
       "<\/style>\n",
       "<ol class=list-inline><li>9.3<\/li><li>9.2<\/li><li>9<\/li><li>9<\/li><li>9<\/li><li>9<\/li><li>9<\/li><li>8.9<\/li><li>8.8<\/li><li>8.8<\/li><\/ol>\n"
      ]
     },
     "metadata":{
      
     },
     "output_type":"display_data"
    }
   ],
   "metadata":{
    "datalore":{
     "node_id":"sAcF0TjS4B5nnw7Uj7tpHB",
     "type":"CODE",
     "hide_input_from_viewers":false,
     "hide_output_from_viewers":false,
     "report_properties":{
      "y":30
     }
    }
   }
  },
  {
   "cell_type":"code",
   "source":[
    "num_votes <- imdb %>%\n",
    "    html_nodes(\"p.sort-num_votes-visible\") %>%\n",
    "    html_text2 "
   ],
   "execution_count":null,
   "outputs":[
    
   ],
   "metadata":{
    "datalore":{
     "node_id":"rLZSKFMD8S16fYpxBaRuVo",
     "type":"CODE",
     "hide_input_from_viewers":false,
     "hide_output_from_viewers":false,
     "report_properties":{
      "y":34
     }
    }
   }
  },
  {
   "cell_type":"code",
   "source":[
    "num_votes"
   ],
   "execution_count":null,
   "outputs":[
    {
     "data":{
      "text\/html":[
       "<style>\n",
       ".list-inline {list-style: none; margin:0; padding: 0}\n",
       ".list-inline>li {display: inline-block}\n",
       ".list-inline>li:not(:last-child)::after {content: \"\\00b7\"; padding: 0 .5ex}\n",
       "<\/style>\n",
       "<ol class=list-inline><li>'Votes: 2,706,565 | Gross: $28.34M | Top 250: #1'<\/li><li>'Votes: 1,879,533 | Gross: $134.97M | Top 250: #2'<\/li><li>'Votes: 2,679,983 | Gross: $534.86M | Top 250: #3'<\/li><li>'Votes: 1,283,480 | Gross: $57.30M | Top 250: #4'<\/li><li>'Votes: 1,367,776 | Gross: $96.90M | Top 250: #6'<\/li><li>'Votes: 799,583 | Gross: $4.36M | Top 250: #5'<\/li><li>'Votes: 1,863,168 | Gross: $377.85M | Top 250: #7'<\/li><li>'Votes: 2,077,925 | Gross: $107.93M | Top 250: #8'<\/li><li>'Votes: 1,892,633 | Gross: $315.54M | Top 250: #9'<\/li><li>'Votes: 2,377,981 | Gross: $292.58M | Top 250: #14'<\/li><li>'Votes: 2,151,027 | Gross: $37.03M | Top 250: #12'<\/li><li>'Votes: 2,102,891 | Gross: $330.25M | Top 250: #11'<\/li><li>'Votes: 1,682,371 | Gross: $342.55M | Top 250: #13'<\/li><li>'Votes: 768,454 | Gross: $6.10M | Top 250: #10'<\/li><li>'Votes: 1,173,985 | Gross: $46.84M | Top 250: #17'<\/li><li>'Votes: 1,016,139 | Gross: $112.00M | Top 250: #18'<\/li><li>'Votes: 1,931,246 | Gross: $171.48M | Top 250: #16'<\/li><li>'Votes: 1,304,024 | Gross: $290.48M | Top 250: #15'<\/li><li>'Votes: 1,864,973 | Gross: $188.02M | Top 250: #25'<\/li><li>'Votes: 1,447,112 | Gross: $130.74M | Top 250: #22'<\/li><li>'Votes: 1,315,721 | Gross: $136.80M | Top 250: #27'<\/li><li>'Votes: 1,671,262 | Gross: $100.13M | Top 250: #19'<\/li><li>'Votes: 1,376,411 | Gross: $322.74M | Top 250: #28'<\/li><li>'Votes: 1,109,541 | Gross: $204.84M | Top 250: #29'<\/li><li>'Votes: 774,499 | Gross: $10.06M | Top 250: #31'<\/li><li>'Votes: 1,404,720 | Gross: $216.54M | Top 250: #23'<\/li><li>'Votes: 762,939 | Gross: $7.56M | Top 250: #24'<\/li><li>'Votes: 702,488 | Gross: $57.60M | Top 250: #26'<\/li><li>'Votes: 467,178 | Top 250: #21'<\/li><li>'Votes: 349,068 | Gross: $0.27M | Top 250: #20'<\/li><li>'Votes: 59,153 | Top 250: #44'<\/li><li>'Votes: 1,337,955 | Gross: $132.38M | Top 250: #39'<\/li><li>'Votes: 881,103 | Gross: $13.09M | Top 250: #42'<\/li><li>'Votes: 825,547 | Gross: $53.37M | Top 250: #34'<\/li><li>'Votes: 1,515,119 | Gross: $187.71M | Top 250: #37'<\/li><li>'Votes: 1,219,332 | Gross: $210.61M | Top 250: #30'<\/li><li>'Votes: 1,346,566 | Gross: $53.09M | Top 250: #41'<\/li><li>'Votes: 674,391 | Gross: $83.47M | Top 250: #53'<\/li><li>'Votes: 891,770 | Gross: $78.90M | Top 250: #51'<\/li><li>'Votes: 1,173,446 | Gross: $19.50M | Top 250: #35'<\/li><li>'Votes: 1,069,716 | Gross: $422.78M | Top 250: #36'<\/li><li>'Votes: 1,093,912 | Gross: $23.34M | Top 250: #40'<\/li><li>'Votes: 1,131,707 | Gross: $6.72M | Top 250: #38'<\/li><li>'Votes: 842,347 | Gross: $32.57M | Top 250: #32'<\/li><li>'Votes: 576,984 | Gross: $1.02M | Top 250: #43'<\/li><li>'Votes: 868,851 | Gross: $13.18M | Top 250: #46'<\/li><li>'Votes: 678,561 | Gross: $32.00M | Top 250: #33'<\/li><li>'Votes: 333,401 | Gross: $5.32M | Top 250: #48'<\/li><li>'Votes: 281,892 | Top 250: #45'<\/li><li>'Votes: 264,543 | Gross: $11.99M | Top 250: #50'<\/li><\/ol>\n"
      ]
     },
     "metadata":{
      
     },
     "output_type":"display_data"
    }
   ],
   "metadata":{
    "datalore":{
     "node_id":"BPmawA8hzbxtoqlI7K1SSK",
     "type":"CODE",
     "hide_input_from_viewers":false,
     "hide_output_from_viewers":false,
     "report_properties":{
      "y":37
     }
    }
   }
  },
  {
   "cell_type":"code",
   "source":[
    "df = data.frame(\n",
    "    title = titles,\n",
    "    rating = ratings,\n",
    "    num_vote = num_votes\n",
    ")"
   ],
   "execution_count":null,
   "outputs":[
    
   ],
   "metadata":{
    "datalore":{
     "node_id":"wIYkBWDXKfoURaxAeEgXK0",
     "type":"CODE",
     "hide_input_from_viewers":false,
     "hide_output_from_viewers":false,
     "report_properties":{
      "y":40
     }
    }
   }
  },
  {
   "cell_type":"code",
   "source":[
    "head(df)"
   ],
   "execution_count":null,
   "outputs":[
    {
     "data":{
      "text\/html":[
       "<table class=\"dataframe\">\n",
       "<caption>A data.frame: 6 × 3<\/caption>\n",
       "<thead>\n",
       "\t<tr><th><\/th><th scope=col>title<\/th><th scope=col>rating<\/th><th scope=col>num_vote<\/th><\/tr>\n",
       "\t<tr><th><\/th><th scope=col>&lt;chr&gt;<\/th><th scope=col>&lt;dbl&gt;<\/th><th scope=col>&lt;chr&gt;<\/th><\/tr>\n",
       "<\/thead>\n",
       "<tbody>\n",
       "\t<tr><th scope=row>1<\/th><td>1. The Shawshank Redemption (1994)<\/td><td>9.3<\/td><td>Votes: 2,706,565 | Gross: $28.34M | Top 250: #1 <\/td><\/tr>\n",
       "\t<tr><th scope=row>2<\/th><td>2. The Godfather (1972)           <\/td><td>9.2<\/td><td>Votes: 1,879,533 | Gross: $134.97M | Top 250: #2<\/td><\/tr>\n",
       "\t<tr><th scope=row>3<\/th><td>3. The Dark Knight (2008)         <\/td><td>9.0<\/td><td>Votes: 2,679,983 | Gross: $534.86M | Top 250: #3<\/td><\/tr>\n",
       "\t<tr><th scope=row>4<\/th><td>4. The Godfather Part II (1974)   <\/td><td>9.0<\/td><td>Votes: 1,283,480 | Gross: $57.30M | Top 250: #4 <\/td><\/tr>\n",
       "\t<tr><th scope=row>5<\/th><td>5. Schindler's List (1993)        <\/td><td>9.0<\/td><td>Votes: 1,367,776 | Gross: $96.90M | Top 250: #6 <\/td><\/tr>\n",
       "\t<tr><th scope=row>6<\/th><td>6. 12 Angry Men (1957)            <\/td><td>9.0<\/td><td>Votes: 799,583 | Gross: $4.36M | Top 250: #5    <\/td><\/tr>\n",
       "<\/tbody>\n",
       "<\/table>\n"
      ]
     },
     "metadata":{
      
     },
     "output_type":"display_data"
    }
   ],
   "metadata":{
    "datalore":{
     "node_id":"Puc2PFynfnrLD9adWer5fZ",
     "type":"CODE",
     "hide_input_from_viewers":false,
     "hide_output_from_viewers":false,
     "report_properties":{
      "y":43
     }
    }
   }
  },
  {
   "cell_type":"markdown",
   "source":[
    "# Specphone"
   ],
   "attachments":{
    
   },
   "metadata":{
    "datalore":{
     "node_id":"Specphone",
     "type":"MD",
     "hide_input_from_viewers":false,
     "hide_output_from_viewers":false,
     "sheet_delimiter":true
    }
   }
  },
  {
   "cell_type":"markdown",
   "source":[
    "# project 02 - Specphone phone database"
   ],
   "attachments":{
    
   },
   "metadata":{
    "datalore":{
     "node_id":"wp4yHueoH1lDLv02w050tD",
     "type":"MD",
     "hide_input_from_viewers":false,
     "hide_output_from_viewers":false,
     "report_properties":{
      "y":46
     }
    }
   }
  },
  {
   "cell_type":"code",
   "source":[
    "library(tidyverse)\n",
    "library(rvest)"
   ],
   "execution_count":null,
   "outputs":[
    {
     "name":"stderr",
     "text":[
      "Warning message in system(\"timedatectl\", intern = TRUE):\n",
      "“running command 'timedatectl' had status 1”\n",
      "Warning message:\n",
      "“Failed to locate timezone database”\n",
      "── \u001b[1mAttaching packages\u001b[22m ─────────────────────────────────────── tidyverse 1.3.1 ──\n",
      "\n",
      "\u001b[32m✔\u001b[39m \u001b[34mggplot2\u001b[39m 3.3.5     \u001b[32m✔\u001b[39m \u001b[34mpurrr  \u001b[39m 0.3.4\n",
      "\u001b[32m✔\u001b[39m \u001b[34mtibble \u001b[39m 3.1.5     \u001b[32m✔\u001b[39m \u001b[34mdplyr  \u001b[39m 1.0.7\n",
      "\u001b[32m✔\u001b[39m \u001b[34mtidyr  \u001b[39m 1.1.4     \u001b[32m✔\u001b[39m \u001b[34mstringr\u001b[39m 1.4.0\n",
      "\u001b[32m✔\u001b[39m \u001b[34mreadr  \u001b[39m 2.0.2     \u001b[32m✔\u001b[39m \u001b[34mforcats\u001b[39m 0.5.1\n",
      "\n",
      "── \u001b[1mConflicts\u001b[22m ────────────────────────────────────────── tidyverse_conflicts() ──\n",
      "\u001b[31m✖\u001b[39m \u001b[34mdplyr\u001b[39m::\u001b[32mfilter()\u001b[39m  masks \u001b[34mstats\u001b[39m::filter()\n",
      "\u001b[31m✖\u001b[39m \u001b[34mpurrr\u001b[39m::\u001b[32mflatten()\u001b[39m masks \u001b[34mjsonlite\u001b[39m::flatten()\n",
      "\u001b[31m✖\u001b[39m \u001b[34mdplyr\u001b[39m::\u001b[32mlag()\u001b[39m     masks \u001b[34mstats\u001b[39m::lag()\n",
      "\n",
      "\n",
      "Attaching package: ‘rvest’\n",
      "\n",
      "\n",
      "The following object is masked from ‘package:readr’:\n",
      "\n",
      "    guess_encoding\n",
      "\n",
      "\n"
     ],
     "output_type":"stream"
    }
   ],
   "metadata":{
    "datalore":{
     "node_id":"3OQsAI5FusXnIm6CAvr9ew",
     "type":"CODE",
     "hide_input_from_viewers":false,
     "hide_output_from_viewers":false,
     "report_properties":{
      "y":49
     }
    }
   }
  },
  {
   "cell_type":"code",
   "source":[
    "url <- read_html(\"https:\/\/specphone.com\/Samsung-Galaxy-S23-Ultra-5G.html\")"
   ],
   "execution_count":null,
   "outputs":[
    
   ],
   "metadata":{
    "datalore":{
     "node_id":"G1Eo9bgSZIiExZzUfEfsaF",
     "type":"CODE",
     "hide_input_from_viewers":false,
     "hide_output_from_viewers":false,
     "report_properties":{
      "y":52
     }
    }
   }
  },
  {
   "cell_type":"code",
   "source":[
    "att <- url %>%\n",
    "    html_nodes(\"div.topic\") %>%\n",
    "    html_text2()\n",
    "detail <- url %>%\n",
    "    html_nodes(\"div.detail\") %>%\n",
    "    html_text2()"
   ],
   "execution_count":null,
   "outputs":[
    
   ],
   "metadata":{
    "datalore":{
     "node_id":"Bxt6UfPPvrXZAs84Qj415D",
     "type":"CODE",
     "hide_input_from_viewers":false,
     "hide_output_from_viewers":false,
     "report_properties":{
      "y":55
     }
    }
   }
  },
  {
   "cell_type":"code",
   "source":[
    "data.frame(atttribute=att,value=detail)"
   ],
   "execution_count":null,
   "outputs":[
    {
     "data":{
      "text\/html":[
       "<table class=\"dataframe\">\n",
       "<caption>A data.frame: 33 × 2<\/caption>\n",
       "<thead>\n",
       "\t<tr><th scope=col>atttribute<\/th><th scope=col>value<\/th><\/tr>\n",
       "\t<tr><th scope=col>&lt;chr&gt;<\/th><th scope=col>&lt;chr&gt;<\/th><\/tr>\n",
       "<\/thead>\n",
       "<tbody>\n",
       "\t<tr><td>วันเปิดตัว          <\/td><td>มกราคม 2566                                                                                                                                                                                           <\/td><\/tr>\n",
       "\t<tr><td>วันวางจำหน่าย      <\/td><td>ยังไม่วางจำหน่าย                                                                                                                                                                                         <\/td><\/tr>\n",
       "\t<tr><td>ขนาด             <\/td><td>163.40 x 78.10 x 8.90 มม.                                                                                                                                                                             <\/td><\/tr>\n",
       "\t<tr><td>น้ำหนัก            <\/td><td>233 กรัม                                                                                                                                                                                               <\/td><\/tr>\n",
       "\t<tr><td>วัสดุ              <\/td><td>Glass front (Gorilla Glass Victus 2), glass back (Gorilla Glass Victus 2), aluminum frame                                                                                                             <\/td><\/tr>\n",
       "\t<tr><td>SIM              <\/td><td>รองรับ 2 ซิมการ์ด (nano sim, nano sim)                                                                                                                                                                   <\/td><\/tr>\n",
       "\t<tr><td>Technology       <\/td><td>HSPA 42.2\/5.76 Mbps, LTE-A (CA), 5G                                                                                                                                                                   <\/td><\/tr>\n",
       "\t<tr><td>2G               <\/td><td>850\/900\/1800\/1900                                                                                                                                                                                     <\/td><\/tr>\n",
       "\t<tr><td>3G               <\/td><td>850\/900\/1900\/2100                                                                                                                                                                                     <\/td><\/tr>\n",
       "\t<tr><td>4G               <\/td><td>850\/900\/1900\/2100\/2600                                                                                                                                                                                <\/td><\/tr>\n",
       "\t<tr><td>5G               <\/td><td>2100\/2600\/3500\/4700                                                                                                                                                                                   <\/td><\/tr>\n",
       "\t<tr><td>ความเร็ว          <\/td><td>HSPA 42.2\/5.76 Mbps, LTE-A (CA), 5G                                                                                                                                                                   <\/td><\/tr>\n",
       "\t<tr><td>ประเภท           <\/td><td>Dynamic AMOLED 2X                                                                                                                                                                                     <\/td><\/tr>\n",
       "\t<tr><td>ขนาดหน้าจอ        <\/td><td>6.80 นิ้ว                                                                                                                                                                                               <\/td><\/tr>\n",
       "\t<tr><td>ความละเอียด       <\/td><td>1440 x 3088 pixels                                                                                                                                                                                    <\/td><\/tr>\n",
       "\t<tr><td>ระบบปฏิบัติการ      <\/td><td>Android 12                                                                                                                                                                                            <\/td><\/tr>\n",
       "\t<tr><td>ชิปประมวลผล       <\/td><td>Qualcomm Snapdragon 8 Gen 2 SM8550 3.2 GHz                                                                                                                                                            <\/td><\/tr>\n",
       "\t<tr><td>ชิปกราฟิก          <\/td><td>Adreno 740                                                                                                                                                                                            <\/td><\/tr>\n",
       "\t<tr><td>หน่วยความจำ       <\/td><td>12 GB                                                                                                                                                                                                 <\/td><\/tr>\n",
       "\t<tr><td>ความจุ            <\/td><td>512\/1024 GB                                                                                                                                                                                           <\/td><\/tr>\n",
       "\t<tr><td>Memory Card      <\/td><td>ไม่รองรับ                                                                                                                                                                                               <\/td><\/tr>\n",
       "\t<tr><td>กล้องหลัก          <\/td><td>ตัวที่ 1: 200 MP, f\/1.7, 23mm (wide), 1\/1.3\n",
       "ตัวที่ 2: 10 MP, f\/4.9, 230mm (periscope telephoto), 1\/3.52\n",
       "ตัวที่ 3: 10 MP, f\/2.4, 70mm (telephoto), 1\/3.52\n",
       "ตัวที่ 4: 12 MP, f\/2.2, 13mm, 120˚ (ultrawide), 1\/2.55<\/td><\/tr>\n",
       "\t<tr><td>ความละเอียดวีดีโอ   <\/td><td>8K@24\/30fps, 4K@30\/60fps, 1080p@30\/60\/240fps, 720p@960fps, HDR10+, stereo sound rec., gyro-EIS                                                                                                        <\/td><\/tr>\n",
       "\t<tr><td>กล้องหน้า          <\/td><td>ตัวที่ 1: 12 MP, f\/2.2, 25mm (wide), PDAF                                                                                                                                                                <\/td><\/tr>\n",
       "\t<tr><td>Bluetooth        <\/td><td>5.3, A2DP, LE                                                                                                                                                                                         <\/td><\/tr>\n",
       "\t<tr><td>Wi-Fi            <\/td><td>802.11 a\/b\/g\/n\/ac\/6e, tri                                                                                                                                                                             <\/td><\/tr>\n",
       "\t<tr><td>USB              <\/td><td>Type-C                                                                                                                                                                                                <\/td><\/tr>\n",
       "\t<tr><td>GPS              <\/td><td>GPS, GLONASS, BDS, GALILE                                                                                                                                                                             <\/td><\/tr>\n",
       "\t<tr><td>NFC              <\/td><td>รอบรับ                                                                                                                                                                                                 <\/td><\/tr>\n",
       "\t<tr><td>ความจุ            <\/td><td>5,000 mAh                                                                                                                                                                                             <\/td><\/tr>\n",
       "\t<tr><td>ประเภท           <\/td><td>Non-removable Li-Po Batt                                                                                                                                                                              <\/td><\/tr>\n",
       "\t<tr><td>Wireless Charging<\/td><td>รองรับ                                                                                                                                                                                                 <\/td><\/tr>\n",
       "\t<tr><td>Fast Charging    <\/td><td>รองรับ (45W)                                                                                                                                                                                           <\/td><\/tr>\n",
       "<\/tbody>\n",
       "<\/table>\n"
      ]
     },
     "metadata":{
      
     },
     "output_type":"display_data"
    }
   ],
   "metadata":{
    "datalore":{
     "node_id":"o3rEIFofcQTrWnSYoLskAo",
     "type":"CODE",
     "hide_input_from_viewers":false,
     "hide_output_from_viewers":false,
     "report_properties":{
      "y":58
     }
    }
   }
  },
  {
   "cell_type":"code",
   "source":[
    "samsung_url %>%\n",
    "    html_nod(li.)"
   ],
   "execution_count":null,
   "outputs":[
    
   ],
   "metadata":{
    "datalore":{
     "node_id":"eHTFUEuBnpizAy8FX3PAot",
     "type":"CODE",
     "hide_input_from_viewers":false,
     "hide_output_from_viewers":false,
     "report_properties":{
      "y":61
     }
    }
   }
  },
  {
   "cell_type":"markdown",
   "source":[
    "# ASUS"
   ],
   "attachments":{
    
   },
   "metadata":{
    "datalore":{
     "node_id":"ASUS",
     "type":"MD",
     "hide_input_from_viewers":false,
     "hide_output_from_viewers":false,
     "sheet_delimiter":true
    }
   }
  },
  {
   "cell_type":"markdown",
   "source":[
    "# spec ASUS laptop"
   ],
   "attachments":{
    
   },
   "metadata":{
    "datalore":{
     "node_id":"7gPchLWJohjG4PWYWRFe2A",
     "type":"MD",
     "hide_input_from_viewers":true,
     "hide_output_from_viewers":true
    }
   }
  },
  {
   "cell_type":"code",
   "source":[
    "library(tidyverse)\n",
    "library(rvest)"
   ],
   "execution_count":null,
   "outputs":[
    {
     "name":"stderr",
     "text":[
      "Warning message in system(\"timedatectl\", intern = TRUE):\n",
      "“running command 'timedatectl' had status 1”\n",
      "Warning message:\n",
      "“Failed to locate timezone database”\n",
      "── \u001b[1mAttaching packages\u001b[22m ─────────────────────────────────────── tidyverse 1.3.1 ──\n",
      "\n",
      "\u001b[32m✔\u001b[39m \u001b[34mggplot2\u001b[39m 3.3.5     \u001b[32m✔\u001b[39m \u001b[34mpurrr  \u001b[39m 0.3.4\n",
      "\u001b[32m✔\u001b[39m \u001b[34mtibble \u001b[39m 3.1.5     \u001b[32m✔\u001b[39m \u001b[34mdplyr  \u001b[39m 1.0.7\n",
      "\u001b[32m✔\u001b[39m \u001b[34mtidyr  \u001b[39m 1.1.4     \u001b[32m✔\u001b[39m \u001b[34mstringr\u001b[39m 1.4.0\n",
      "\u001b[32m✔\u001b[39m \u001b[34mreadr  \u001b[39m 2.0.2     \u001b[32m✔\u001b[39m \u001b[34mforcats\u001b[39m 0.5.1\n",
      "\n",
      "── \u001b[1mConflicts\u001b[22m ────────────────────────────────────────── tidyverse_conflicts() ──\n",
      "\u001b[31m✖\u001b[39m \u001b[34mdplyr\u001b[39m::\u001b[32mfilter()\u001b[39m  masks \u001b[34mstats\u001b[39m::filter()\n",
      "\u001b[31m✖\u001b[39m \u001b[34mpurrr\u001b[39m::\u001b[32mflatten()\u001b[39m masks \u001b[34mjsonlite\u001b[39m::flatten()\n",
      "\u001b[31m✖\u001b[39m \u001b[34mdplyr\u001b[39m::\u001b[32mlag()\u001b[39m     masks \u001b[34mstats\u001b[39m::lag()\n",
      "\n",
      "\n",
      "Attaching package: ‘rvest’\n",
      "\n",
      "\n",
      "The following object is masked from ‘package:readr’:\n",
      "\n",
      "    guess_encoding\n",
      "\n",
      "\n"
     ],
     "output_type":"stream"
    }
   ],
   "metadata":{
    "datalore":{
     "node_id":"9fUmWoqgucqZobraSabitg",
     "type":"CODE",
     "hide_input_from_viewers":false,
     "hide_output_from_viewers":false,
     "report_properties":{
      "y":64
     }
    }
   }
  },
  {
   "cell_type":"code",
   "source":[
    "url <- read_html(\"https:\/\/www.asus.com\/th\/laptops\/for-work\/all-series\/filter?Category=Thin-and-light\")"
   ],
   "execution_count":null,
   "outputs":[
    
   ],
   "metadata":{
    "datalore":{
     "node_id":"42viRJmqrGLmeQ8SXrQpuJ",
     "type":"CODE",
     "hide_input_from_viewers":false,
     "hide_output_from_viewers":false,
     "report_properties":{
      "y":67
     }
    }
   }
  },
  {
   "cell_type":"code",
   "source":[
    "version <- url %>%\n",
    "    html_nodes(\"h2\") %>%\n",
    "    html_text2()\n",
    "spec <- url %>%\n",
    "    html_nodes(\"div.itemModelSpec\") %>%\n",
    "    html_text2()"
   ],
   "execution_count":null,
   "outputs":[
    
   ],
   "metadata":{
    "datalore":{
     "node_id":"GopAO6gfGfo9mEhzsK6fY7",
     "type":"CODE",
     "hide_input_from_viewers":false,
     "hide_output_from_viewers":false,
     "report_properties":{
      "y":70
     }
    }
   }
  },
  {
   "cell_type":"code",
   "source":[
    "spec"
   ],
   "execution_count":null,
   "outputs":[
    {
     "data":{
      "text\/html":[
       "<style>\n",
       ".list-inline {list-style: none; margin:0; padding: 0}\n",
       ".list-inline>li {display: inline-block}\n",
       ".list-inline>li:not(:last-child)::after {content: \"\\00b7\"; padding: 0 .5ex}\n",
       "<\/style>\n",
       "<ol class=list-inline><li>'Windows 11 Pro - ASUS recommends Windows 11 Pro for business\\nUp to 12th gen Intel® Core™ i7 processor\\nFrom 1.25 kg\\nUp to 40 GB memory\\nUp to 2 TB SSD storage\\nEnterprise-grade security features\\nMIL-STD 810H US military standard\\nRAID support'<\/li><li>'Windows 11 Pro - ASUS recommends Windows 11 Pro for business\\nUp to 12th Intel® Core™ i7 processor\\nUp to 64 GB DDR5 memory\\nUp to 2 TB PCIe® 4.0 SSD storage\\nUp to 16:10 QHD+ display\\n360˚ hinge with stylus support\\nUp to 11 hours battery life\\nSupports the Intel vPro® platform'<\/li><li>'Windows 11 Pro - ASUS recommends Windows 11 Pro for business\\nUp to 12th gen Intel® Core™ i7 processor\\nUp to Intel® Iris Xᵉ graphics\\nThe world’s lightest 14” business laptop\\nUp to 16 hours battery life\\nEnterprise-grade security for robust protection\\nSupports the Intel vPro platform\\n\\n'<\/li><li>'Windows 11 Home - ASUS recommends Windows 11 Pro for business\\nPowered by Snapdragon 7c Gen 2 Compute Platform\\nDetachable full-sized keyboard\\nDual-orientation stand cover\\nDual cameras and garaged stylus\\nNoise reducing camera\\nAI noise-canceling audio technology'<\/li><li>'Windows 11 Pro - ASUS recommends Windows 11 Pro for business\\nUp to 11th Intel® Core™ i7 processor\\n16 GB memory\\nUp to 1 TB PCIe® 3.0 SSD storage\\nUp to 16:10 WUXGA display\\n3600 hinge with stylus support\\nUp to 12hours battery life\\nTwo-way AI noise-canceling'<\/li><li>'Windows 11 Pro - ASUS recommends Windows 11 Pro for business\\nUp to 11th gen Intel® Core™ i7 processor\\nFrom 1.3 kg\\nUp to 16 GB memory\\nUp to 512 GB SSD storage\\nUp to 12 hours battery life\\nTwo-way AI Noise-canceling'<\/li><li>'Windows 11 Pro - ASUS recommends Windows 11 Pro for business\\n11th gen Intel® Core™ i5 processor\\nFrom 1.2 kg\\n8 GB memory\\n512GB SSD storage\\nUp to 12 hours battery life\\nTwo-way AI Noise-canceling'<\/li><li>'Windows 10 Pro - ASUS แนะนำ Windows 10 Pro สำหรับธุรกิจ, อัปเกรดเป็น Windows 11 ได้ฟรี1 เมื่อมีพร้อมใช้งาน (โปรดดูด้านล่าง)\\nIntel® Core™ i7-1165G7 Processor\\n16 GB memory\\n1 TB SSD storage\\nThin and light: 880g, 14.9mm\\nUp to 20 hours battery life\\nUS Military-grade Durability\\nAI Noise Canceling'<\/li><li>'Windows 10 Pro\\nUp to an AMD® Ryzen™ 7 3700U Processor\\n14-inch laptops, stylish and portable\\nNanoEdge display\\nUp to 16GB memory\\nUp to 1TB HDD + 512GB SSD\\nSupport FingerPrint sensor &amp; Window’s hello'<\/li><\/ol>\n"
      ]
     },
     "metadata":{
      
     },
     "output_type":"display_data"
    }
   ],
   "metadata":{
    "datalore":{
     "node_id":"I9qroPzCDevHgQVrAQvWrv",
     "type":"CODE",
     "hide_input_from_viewers":false,
     "hide_output_from_viewers":false,
     "report_properties":{
      "y":73
     }
    }
   }
  },
  {
   "cell_type":"code",
   "source":[
    "data_frame(version, spec)"
   ],
   "execution_count":null,
   "outputs":[
    {
     "data":{
      "text\/html":[
       "<table class=\"dataframe\">\n",
       "<caption>A tibble: 9 × 2<\/caption>\n",
       "<thead>\n",
       "\t<tr><th scope=col>version<\/th><th scope=col>spec<\/th><\/tr>\n",
       "\t<tr><th scope=col>&lt;chr&gt;<\/th><th scope=col>&lt;chr&gt;<\/th><\/tr>\n",
       "<\/thead>\n",
       "<tbody>\n",
       "\t<tr><td>ASUS ExpertBook B5 (B5402C, 12th Gen Intel)     <\/td><td>Windows 11 Pro - ASUS recommends Windows 11 Pro for business\n",
       "Up to 12th gen Intel® Core™ i7 processor\n",
       "From 1.25 kg\n",
       "Up to 40 GB memory\n",
       "Up to 2 TB SSD storage\n",
       "Enterprise-grade security features\n",
       "MIL-STD 810H US military standard\n",
       "RAID support                                              <\/td><\/tr>\n",
       "\t<tr><td>Expertbook B7 Flip (B7402F, 12th Gen Intel)     <\/td><td>Windows 11 Pro - ASUS recommends Windows 11 Pro for business\n",
       "Up to 12th Intel® Core™ i7 processor\n",
       "Up to 64 GB DDR5 memory\n",
       "Up to 2 TB PCIe® 4.0 SSD storage\n",
       "Up to 16:10 QHD+ display\n",
       "360˚ hinge with stylus support\n",
       "Up to 11 hours battery life\n",
       "Supports the Intel vPro® platform            <\/td><\/tr>\n",
       "\t<tr><td>ASUS ExpertBook B9 (B9400, 12th Gen Intel)      <\/td><td>Windows 11 Pro - ASUS recommends Windows 11 Pro for business\n",
       "Up to 12th gen Intel® Core™ i7 processor\n",
       "Up to Intel® Iris Xᵉ graphics\n",
       "The world’s lightest 14” business laptop\n",
       "Up to 16 hours battery life\n",
       "Enterprise-grade security for robust protection\n",
       "Supports the Intel vPro platform\n",
       "\n",
       "<\/td><\/tr>\n",
       "\t<tr><td>ExpertBook B3 Detachable (B3000)                <\/td><td>Windows 11 Home - ASUS recommends Windows 11 Pro for business\n",
       "Powered by Snapdragon 7c Gen 2 Compute Platform\n",
       "Detachable full-sized keyboard\n",
       "Dual-orientation stand cover\n",
       "Dual cameras and garaged stylus\n",
       "Noise reducing camera\n",
       "AI noise-canceling audio technology                          <\/td><\/tr>\n",
       "\t<tr><td>Expertbook B7 Flip (B7402F, 11th Gen Intel)     <\/td><td>Windows 11 Pro - ASUS recommends Windows 11 Pro for business\n",
       "Up to 11th Intel® Core™ i7 processor\n",
       "16 GB memory\n",
       "Up to 1 TB PCIe® 3.0 SSD storage\n",
       "Up to 16:10 WUXGA display\n",
       "3600 hinge with stylus support\n",
       "Up to 12hours battery life\n",
       "Two-way AI noise-canceling                              <\/td><\/tr>\n",
       "\t<tr><td>ExpertBook B5 Flip OLED (B5302F, 11th Gen Intel)<\/td><td>Windows 11 Pro - ASUS recommends Windows 11 Pro for business\n",
       "Up to 11th gen Intel® Core™ i7 processor\n",
       "From 1.3 kg\n",
       "Up to 16 GB memory\n",
       "Up to 512 GB SSD storage\n",
       "Up to 12 hours battery life\n",
       "Two-way AI Noise-canceling                                                                         <\/td><\/tr>\n",
       "\t<tr><td>ExpertBook B5 OLED (B5302C, 11th Gen Intel)     <\/td><td>Windows 11 Pro - ASUS recommends Windows 11 Pro for business\n",
       "11th gen Intel® Core™ i5 processor\n",
       "From 1.2 kg\n",
       "8 GB memory\n",
       "512GB SSD storage\n",
       "Up to 12 hours battery life\n",
       "Two-way AI Noise-canceling                                                                                             <\/td><\/tr>\n",
       "\t<tr><td>ExpertBook B9 (B9400)                           <\/td><td>Windows 10 Pro - ASUS แนะนำ Windows 10 Pro สำหรับธุรกิจ, อัปเกรดเป็น Windows 11 ได้ฟรี1 เมื่อมีพร้อมใช้งาน (โปรดดูด้านล่าง)\n",
       "Intel® Core™ i7-1165G7 Processor\n",
       "16 GB memory\n",
       "1 TB SSD storage\n",
       "Thin and light: 880g, 14.9mm\n",
       "Up to 20 hours battery life\n",
       "US Military-grade Durability\n",
       "AI Noise Canceling        <\/td><\/tr>\n",
       "\t<tr><td><span style=white-space:pre-wrap>ExpertBook P1 P1410                             <\/span><\/td><td><span style=white-space:pre-wrap>Windows 10 Pro\n",
       "Up to an AMD® Ryzen™ 7 3700U Processor\n",
       "14-inch laptops, stylish and portable\n",
       "NanoEdge display\n",
       "Up to 16GB memory\n",
       "Up to 1TB HDD + 512GB SSD\n",
       "Support FingerPrint sensor &amp; Window’s hello                                                                                         <\/span><\/td><\/tr>\n",
       "<\/tbody>\n",
       "<\/table>\n"
      ]
     },
     "metadata":{
      
     },
     "output_type":"display_data"
    }
   ],
   "metadata":{
    "datalore":{
     "node_id":"WElGNe4sDDmmTLt0KrBWvo",
     "type":"CODE",
     "hide_input_from_viewers":false,
     "hide_output_from_viewers":false,
     "report_properties":{
      "y":76
     }
    }
   }
  },
  {
   "cell_type":"code",
   "source":[
    "size <- url %>%\n",
    "    html_nodes(\"div.ProductCardNormalStore__subHeadingRow__3mF2k\") %>%\n",
    "    html_text2()"
   ],
   "execution_count":null,
   "outputs":[
    
   ],
   "metadata":{
    "datalore":{
     "node_id":"Y1Vr8WUzIQJfUAb0S7ykil",
     "type":"CODE",
     "hide_input_from_viewers":false,
     "hide_output_from_viewers":false,
     "report_properties":{
      "y":79
     }
    }
   }
  },
  {
   "cell_type":"code",
   "source":[
    "size"
   ],
   "execution_count":null,
   "outputs":[
    {
     "data":{
      "text\/html":[
       "<style>\n",
       ".list-inline {list-style: none; margin:0; padding: 0}\n",
       ".list-inline>li {display: inline-block}\n",
       ".list-inline>li:not(:last-child)::after {content: \"\\00b7\"; padding: 0 .5ex}\n",
       "<\/style>\n",
       "<ol class=list-inline><li>'14”'<\/li><li>'14”'<\/li><li>'14”'<\/li><li>'10.5\"'<\/li><li>'14.0\"'<\/li><li>'13.3\"'<\/li><li>'13.3\"'<\/li><li>'14.0\"'<\/li><li>'14.0\"'<\/li><\/ol>\n"
      ]
     },
     "metadata":{
      
     },
     "output_type":"display_data"
    }
   ],
   "metadata":{
    "datalore":{
     "node_id":"KBGNDh2IvH8SA7fWVtrpaj",
     "type":"CODE",
     "hide_input_from_viewers":false,
     "hide_output_from_viewers":false,
     "report_properties":{
      "y":82
     }
    }
   }
  },
  {
   "cell_type":"code",
   "source":[
    "data_frame(version, spec,size)"
   ],
   "execution_count":null,
   "outputs":[
    {
     "data":{
      "text\/html":[
       "<table class=\"dataframe\">\n",
       "<caption>A tibble: 9 × 3<\/caption>\n",
       "<thead>\n",
       "\t<tr><th scope=col>version<\/th><th scope=col>spec<\/th><th scope=col>size<\/th><\/tr>\n",
       "\t<tr><th scope=col>&lt;chr&gt;<\/th><th scope=col>&lt;chr&gt;<\/th><th scope=col>&lt;chr&gt;<\/th><\/tr>\n",
       "<\/thead>\n",
       "<tbody>\n",
       "\t<tr><td>ASUS ExpertBook B5 (B5402C, 12th Gen Intel)     <\/td><td>Windows 11 Pro - ASUS recommends Windows 11 Pro for business\n",
       "Up to 12th gen Intel® Core™ i7 processor\n",
       "From 1.25 kg\n",
       "Up to 40 GB memory\n",
       "Up to 2 TB SSD storage\n",
       "Enterprise-grade security features\n",
       "MIL-STD 810H US military standard\n",
       "RAID support                                              <\/td><td>14”  <\/td><\/tr>\n",
       "\t<tr><td>Expertbook B7 Flip (B7402F, 12th Gen Intel)     <\/td><td>Windows 11 Pro - ASUS recommends Windows 11 Pro for business\n",
       "Up to 12th Intel® Core™ i7 processor\n",
       "Up to 64 GB DDR5 memory\n",
       "Up to 2 TB PCIe® 4.0 SSD storage\n",
       "Up to 16:10 QHD+ display\n",
       "360˚ hinge with stylus support\n",
       "Up to 11 hours battery life\n",
       "Supports the Intel vPro® platform            <\/td><td>14”  <\/td><\/tr>\n",
       "\t<tr><td>ASUS ExpertBook B9 (B9400, 12th Gen Intel)      <\/td><td>Windows 11 Pro - ASUS recommends Windows 11 Pro for business\n",
       "Up to 12th gen Intel® Core™ i7 processor\n",
       "Up to Intel® Iris Xᵉ graphics\n",
       "The world’s lightest 14” business laptop\n",
       "Up to 16 hours battery life\n",
       "Enterprise-grade security for robust protection\n",
       "Supports the Intel vPro platform\n",
       "\n",
       "<\/td><td>14”  <\/td><\/tr>\n",
       "\t<tr><td>ExpertBook B3 Detachable (B3000)                <\/td><td>Windows 11 Home - ASUS recommends Windows 11 Pro for business\n",
       "Powered by Snapdragon 7c Gen 2 Compute Platform\n",
       "Detachable full-sized keyboard\n",
       "Dual-orientation stand cover\n",
       "Dual cameras and garaged stylus\n",
       "Noise reducing camera\n",
       "AI noise-canceling audio technology                          <\/td><td>10.5\"<\/td><\/tr>\n",
       "\t<tr><td>Expertbook B7 Flip (B7402F, 11th Gen Intel)     <\/td><td>Windows 11 Pro - ASUS recommends Windows 11 Pro for business\n",
       "Up to 11th Intel® Core™ i7 processor\n",
       "16 GB memory\n",
       "Up to 1 TB PCIe® 3.0 SSD storage\n",
       "Up to 16:10 WUXGA display\n",
       "3600 hinge with stylus support\n",
       "Up to 12hours battery life\n",
       "Two-way AI noise-canceling                              <\/td><td>14.0\"<\/td><\/tr>\n",
       "\t<tr><td>ExpertBook B5 Flip OLED (B5302F, 11th Gen Intel)<\/td><td>Windows 11 Pro - ASUS recommends Windows 11 Pro for business\n",
       "Up to 11th gen Intel® Core™ i7 processor\n",
       "From 1.3 kg\n",
       "Up to 16 GB memory\n",
       "Up to 512 GB SSD storage\n",
       "Up to 12 hours battery life\n",
       "Two-way AI Noise-canceling                                                                         <\/td><td>13.3\"<\/td><\/tr>\n",
       "\t<tr><td>ExpertBook B5 OLED (B5302C, 11th Gen Intel)     <\/td><td>Windows 11 Pro - ASUS recommends Windows 11 Pro for business\n",
       "11th gen Intel® Core™ i5 processor\n",
       "From 1.2 kg\n",
       "8 GB memory\n",
       "512GB SSD storage\n",
       "Up to 12 hours battery life\n",
       "Two-way AI Noise-canceling                                                                                             <\/td><td>13.3\"<\/td><\/tr>\n",
       "\t<tr><td>ExpertBook B9 (B9400)                           <\/td><td>Windows 10 Pro - ASUS แนะนำ Windows 10 Pro สำหรับธุรกิจ, อัปเกรดเป็น Windows 11 ได้ฟรี1 เมื่อมีพร้อมใช้งาน (โปรดดูด้านล่าง)\n",
       "Intel® Core™ i7-1165G7 Processor\n",
       "16 GB memory\n",
       "1 TB SSD storage\n",
       "Thin and light: 880g, 14.9mm\n",
       "Up to 20 hours battery life\n",
       "US Military-grade Durability\n",
       "AI Noise Canceling        <\/td><td>14.0\"<\/td><\/tr>\n",
       "\t<tr><td><span style=white-space:pre-wrap>ExpertBook P1 P1410                             <\/span><\/td><td><span style=white-space:pre-wrap>Windows 10 Pro\n",
       "Up to an AMD® Ryzen™ 7 3700U Processor\n",
       "14-inch laptops, stylish and portable\n",
       "NanoEdge display\n",
       "Up to 16GB memory\n",
       "Up to 1TB HDD + 512GB SSD\n",
       "Support FingerPrint sensor &amp; Window’s hello                                                                                         <\/span><\/td><td>14.0\"<\/td><\/tr>\n",
       "<\/tbody>\n",
       "<\/table>\n"
      ]
     },
     "metadata":{
      
     },
     "output_type":"display_data"
    }
   ],
   "metadata":{
    "datalore":{
     "node_id":"LJSZu0cnnJ0jj5jRV81FbC",
     "type":"CODE",
     "hide_input_from_viewers":false,
     "hide_output_from_viewers":false,
     "report_properties":{
      "y":85
     }
    }
   }
  }
 ],
 "metadata":{
  "kernelspec":{
   "display_name":"R",
   "language":"r",
   "name":"ir"
  },
  "datalore":{
   "version":1,
   "computation_mode":"JUPYTER",
   "package_manager":"conda",
   "base_environment":"minimal",
   "packages":[
    
   ]
  }
 },
 "nbformat":4,
 "nbformat_minor":4
}