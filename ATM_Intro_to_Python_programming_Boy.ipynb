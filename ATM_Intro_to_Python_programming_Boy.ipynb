{
  "nbformat": 4,
  "nbformat_minor": 0,
  "metadata": {
    "colab": {
      "provenance": [],
      "include_colab_link": true
    },
    "kernelspec": {
      "name": "python3",
      "display_name": "Python 3"
    },
    "language_info": {
      "name": "python"
    }
  },
  "cells": [
    {
      "cell_type": "markdown",
      "metadata": {
        "id": "view-in-github",
        "colab_type": "text"
      },
      "source": [
        "<a href=\"https://colab.research.google.com/github/boyra092/bootcamp_projects/blob/main/ATM_Intro_to_Python_programming_Boy.ipynb\" target=\"_parent\"><img src=\"https://colab.research.google.com/assets/colab-badge.svg\" alt=\"Open In Colab\"/></a>"
      ]
    },
    {
      "cell_type": "markdown",
      "source": [
        "# **ATM project**\n",
        "Create an ATM class with at least 5 methods"
      ],
      "metadata": {
        "id": "8m9rydN3clBt"
      }
    },
    {
      "cell_type": "code",
      "source": [
        "class TTB():\n",
        "    def __init__(self, name, balance, PIN):\n",
        "        self.name = name\n",
        "        self.balance = balance\n",
        "        self.PIN = PIN\n",
        "    \n",
        "    def deposit(self, money):\n",
        "        self.balance += money\n",
        "        print(\"Deposit Successful\")\n",
        "        print(f\"You've successfully deposited {money} Baht\")\n",
        "        print(f\"New balance: {self.balance} Baht\")\n",
        "\n",
        "    def withdraw(self, money):\n",
        "        if money > self.balance:\n",
        "            print(f\"Your balance: {self.balance} Baht\")\n",
        "            print(\"Your account has insufficient funds for this transaction.\")\n",
        "        else:\n",
        "            self.balance -= money\n",
        "            print(\"Withdrawal Successful\")\n",
        "            print(f\"You've successfully withdrawn {money} Baht\")\n",
        "            print(f\"New balance: {self.balance} Baht\")\n",
        "\n",
        "   \n",
        "    def transfer(self, receiver_acc_name, money):\n",
        "        if money > self.balance:\n",
        "            print(f\"Your balance: {self.balance} Baht\")\n",
        "            print(\"Your account has insufficient funds for this transaction.\")\n",
        "        else:\n",
        "            self.balance -= money\n",
        "            print(\"Transfer Successful\")\n",
        "            print(f\"You've successfully transferred {money} Baht to {receiver_acc_name}\")\n",
        "            print(f\"New balance: {self.balance} Baht\")\n",
        "    \n",
        "    def change_PIN(self):\n",
        "        new_PIN = input(\"\\nEnter new PIN: \")\n",
        "        reenter_new_PIN = input(\"Reenter new PIN: \")\n",
        "        if new_PIN == reenter_new_PIN:\n",
        "            self.PIN = new_PIN\n",
        "            print(\"\\nYour PIN has been changed.\")\n",
        "        else:\n",
        "            print(\"\\nNew PIN does not match.\")\n",
        "            print(\"Failed to change PIN.\")"
      ],
      "metadata": {
        "id": "eZz4hWhYhFyt"
      },
      "execution_count": 13,
      "outputs": []
    },
    {
      "cell_type": "code",
      "source": [
        "# open an account\n",
        "print(\"Welcome to TTB\")\n",
        "print(\"Open an account\")\n",
        "name = input(\"Please create your account name: \")\n",
        "balance = int(input(\"Please enter your opening balance: \"))\n",
        "temp_PIN = '1111'\n",
        "customer = TTB(name, balance, temp_PIN)\n",
        "print(\"\\nSuccessfully open an account\")\n",
        "print(\"Your temporary PIN will be 1111\")"
      ],
      "metadata": {
        "colab": {
          "base_uri": "https://localhost:8080/"
        },
        "id": "IRDNudZZDKxu",
        "outputId": "2523f103-5081-4c59-dd18-ec735b8035cc"
      },
      "execution_count": 14,
      "outputs": [
        {
          "output_type": "stream",
          "name": "stdout",
          "text": [
            "Welcome to TTB\n",
            "Open an account\n",
            "Please create your account name: boy\n",
            "Please enter your opening balance: 3333\n",
            "\n",
            "Successfully open an account\n",
            "Your temporary PIN will be 1111\n"
          ]
        }
      ]
    },
    {
      "cell_type": "code",
      "source": [
        "# at ATM\n",
        "print(\"Welcome!\")\n",
        "print(\"Please insert your card\\n\")\n",
        "\n",
        "# PIN validation -> 3 attempts\n",
        "retries = 3\n",
        "while retries > 0:\n",
        "    entered_PIN = input(\"Please enter PIN: \")\n",
        "    if entered_PIN != customer.PIN:\n",
        "        print(\"Incorrect PIN\")\n",
        "        retries -= 1 \n",
        "        if retries > 0:\n",
        "            print(f\"You have {retries} retries left.\\n\")\n",
        "        else:\n",
        "            print(\"The card will be retained as it considered a stolen card or attempted theft.\")\n",
        "            break\n",
        "    else:\n",
        "        retries = 0\n",
        "        # select transaction\n",
        "        print(\"Please select transaction\")\n",
        "        print(\"(1) Deposit      (2) Withdrawal\\n(3) Transfer\\n (4) PIN Change   (5) Check Balance\")\n",
        "        tx = int(input(\"Enter the transaction number (1-5): \"))\n",
        "        if tx == 1:\n",
        "            deposit = int(input(\"\\nEnter the amount you wish to deposit: \"))\n",
        "            customer.deposit(deposit)\n",
        "        elif tx == 2:\n",
        "            withdrawal = int(input(\"\\nEnter the amount you wish to wishdraw: \"))\n",
        "            customer.withdraw(withdrawal)\n",
        "        elif tx == 3:\n",
        "            dest_acc = input(\"\\nEnter the destination bank account: \")\n",
        "            transfer = int(input(\"Enter the amount you wish to transfer: \"))\n",
        "            customer.transfer(dest_acc, transfer)\n",
        "        elif tx == 4:\n",
        "            customer.change_PIN()\n",
        "        elif tx == 5:\n",
        "            print(f\"Your balance is {customer.balance} Baht\")\n",
        "        else:\n",
        "            print(f'\\n{tx} is an invalid number. Please try again...')"
      ],
      "metadata": {
        "colab": {
          "base_uri": "https://localhost:8080/"
        },
        "id": "AyeQsyZsh9TQ",
        "outputId": "f9c22fef-e1e8-4f0a-bca2-7d9037320e1e"
      },
      "execution_count": 16,
      "outputs": [
        {
          "output_type": "stream",
          "name": "stdout",
          "text": [
            "Welcome!\n",
            "Please insert your card\n",
            "\n",
            "Please enter PIN: 1111\n",
            "Please select transaction\n",
            "(1) Deposit      (2) Withdrawal\n",
            "(3) Transfer\n",
            " (4) PIN Change   (5) Check Balance\n",
            "Enter the transaction number (1-5): 3\n",
            "\n",
            "Enter the destination bank account: 20\n",
            "Enter the amount you wish to transfer: 2\n",
            "Transfer Successful\n",
            "You've successfully transferred 2 Baht to 20\n",
            "New balance: 3331 Baht\n"
          ]
        }
      ]
    }
  ]
}